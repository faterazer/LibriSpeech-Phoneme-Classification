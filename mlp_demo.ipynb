{
 "cells": [
  {
   "cell_type": "markdown",
   "metadata": {
    "collapsed": false
   },
   "source": [
    "# Sample Code Demo"
   ]
  },
  {
   "cell_type": "code",
   "execution_count": null,
   "metadata": {
    "collapsed": true
   },
   "outputs": [],
   "source": [
    "import gc\n",
    "\n",
    "import pickle\n",
    "import torch\n",
    "from sklearn.preprocessing import StandardScaler\n",
    "from torch import nn\n",
    "from torch.utils.data import DataLoader, random_split\n",
    "\n",
    "from datautils import FixedFramesDataset, get_fixed_frame_data\n",
    "from model_house import MLP, ResMLP\n",
    "from trainutils import device, prediction, train\n"
   ]
  },
  {
   "cell_type": "markdown",
   "metadata": {
    "collapsed": false
   },
   "source": [
    "## Hyper Parameters"
   ]
  },
  {
   "cell_type": "code",
   "execution_count": null,
   "metadata": {
    "collapsed": false
   },
   "outputs": [],
   "source": [
    "nframes = 7\n",
    "batch_size = 512\n",
    "learning_rate = 1e-3\n",
    "trial_name = \"MLP-Demo\""
   ]
  },
  {
   "cell_type": "markdown",
   "metadata": {
    "collapsed": false
   },
   "source": [
    "## Define Dataset"
   ]
  },
  {
   "cell_type": "code",
   "execution_count": null,
   "metadata": {
    "collapsed": false
   },
   "outputs": [],
   "source": [
    "train_X, train_y = get_fixed_frame_data(\n",
    "    nframes,\n",
    "    feat_dir=\"./data/libriphone/feat/train\",\n",
    "    split_filepath=\"./data/libriphone/train_split.txt\",\n",
    "    labels_filepath=\"./data/libriphone/train_labels.txt\",\n",
    ")\n",
    "test_X = get_fixed_frame_data(\n",
    "    nframes, feat_dir=\"./data/libriphone/feat/test\", split_filepath=\"./data/libriphone/test_split.txt\"\n",
    ")\n",
    "\n",
    "train_X, test_X = train_X.numpy(), test_X.numpy()\n",
    "# scaler = StandardScaler().fit(np.concatenate([train_X.reshape(-1, train_X.shape[-1]), test_X.reshape(-1, test_X.shape[-1])], axis=0))\n",
    "with open(\"./scaler.skl\", \"rb\") as fp:\n",
    "    scaler = pickle.load(fp)\n",
    "print(\"Scaling training data.\")\n",
    "train_X = scaler.transform(train_X.reshape(-1, train_X.shape[-1])).reshape(train_X.shape)\n",
    "print(\"Scaling test data.\")\n",
    "test_X = scaler.transform(test_X.reshape(-1, test_X.shape[-1])).reshape(test_X.shape)\n"
   ]
  },
  {
   "cell_type": "code",
   "execution_count": null,
   "metadata": {},
   "outputs": [],
   "source": [
    "train_X = torch.FloatTensor(train_X)\n",
    "test_X = torch.FloatTensor(test_X)\n",
    "train_dataset = FixedFramesDataset(train_X, train_y)\n",
    "test_dataset = FixedFramesDataset(test_X)\n",
    "\n",
    "del train_X, train_y, test_X\n",
    "gc.collect()\n",
    "\n",
    "train_len = int(len(train_dataset) * 0.8)\n",
    "valid_len = len(train_dataset) - train_len\n",
    "train_dataset, valid_dataset = random_split(train_dataset, [train_len, valid_len])\n",
    "\n",
    "train_dataloader = DataLoader(train_dataset, batch_size=batch_size, shuffle=True, num_workers=4, pin_memory=True)\n",
    "valid_dataloader = DataLoader(valid_dataset, batch_size=batch_size, shuffle=False, num_workers=4, pin_memory=True)"
   ]
  },
  {
   "cell_type": "markdown",
   "metadata": {
    "collapsed": false
   },
   "source": [
    "## Define Model"
   ]
  },
  {
   "cell_type": "code",
   "execution_count": null,
   "metadata": {
    "collapsed": false
   },
   "outputs": [],
   "source": [
    "model = MLP(input_dim=(2 * nframes + 1) * 39, num_classes=41).to(device)\n",
    "criterion = nn.CrossEntropyLoss()\n",
    "optimizer = torch.optim.Adam(model.parameters(), lr=learning_rate)"
   ]
  },
  {
   "cell_type": "code",
   "execution_count": null,
   "metadata": {
    "collapsed": false
   },
   "outputs": [],
   "source": [
    "train(train_dataloader, valid_dataloader, model, criterion, optimizer, 50000, 100, trial_name)"
   ]
  },
  {
   "cell_type": "markdown",
   "metadata": {
    "collapsed": false
   },
   "source": [
    "## Prediction"
   ]
  },
  {
   "cell_type": "code",
   "execution_count": null,
   "metadata": {
    "collapsed": false
   },
   "outputs": [],
   "source": [
    "test_dataloader = DataLoader(test_dataset, batch_size=batch_size, shuffle=False, num_workers=4, pin_memory=True)\n",
    "\n",
    "\n",
    "model.load_state_dict(torch.load(f\"./models/{trial_name}.ckpt\"))\n",
    "prediction(test_dataloader, model)\n"
   ]
  }
 ],
 "metadata": {
  "kernelspec": {
   "display_name": "Python 3.10.4 ('lab')",
   "language": "python",
   "name": "python3"
  },
  "language_info": {
   "codemirror_mode": {
    "name": "ipython",
    "version": 3
   },
   "file_extension": ".py",
   "mimetype": "text/x-python",
   "name": "python",
   "nbconvert_exporter": "python",
   "pygments_lexer": "ipython3",
   "version": "3.10.4"
  },
  "vscode": {
   "interpreter": {
    "hash": "911c2b171b7b5c54bdbcf49ed41878ff6d08983a167793ca2ae81c7a319ea04e"
   }
  }
 },
 "nbformat": 4,
 "nbformat_minor": 0
}
