{
 "cells": [
  {
   "cell_type": "markdown",
   "source": [
    "# Sample Code Demo"
   ],
   "metadata": {
    "collapsed": false
   }
  },
  {
   "cell_type": "code",
   "execution_count": 1,
   "metadata": {
    "collapsed": true
   },
   "outputs": [],
   "source": [
    "import torch\n",
    "from torch import nn, Tensor\n",
    "from torch.utils.data import random_split, DataLoader\n",
    "import gc\n",
    "\n",
    "from datautils import get_fixed_frame_data, FixedFramesDataset\n",
    "from trainutils import device, train\n"
   ]
  },
  {
   "cell_type": "markdown",
   "source": [
    "## Hyper Parameters"
   ],
   "metadata": {
    "collapsed": false
   }
  },
  {
   "cell_type": "code",
   "execution_count": 2,
   "outputs": [],
   "source": [
    "nframes = 2\n",
    "batch_size = 512\n",
    "trial_name = \"demo\""
   ],
   "metadata": {
    "collapsed": false
   }
  },
  {
   "cell_type": "markdown",
   "source": [
    "## Define Dataset"
   ],
   "metadata": {
    "collapsed": false
   }
  },
  {
   "cell_type": "code",
   "execution_count": 3,
   "outputs": [
    {
     "data": {
      "text/plain": "  0%|          | 0/4286 [00:00<?, ?it/s]",
      "application/vnd.jupyter.widget-view+json": {
       "version_major": 2,
       "version_minor": 0,
       "model_id": "1dd2e393fd7049999b5165a2db847f11"
      }
     },
     "metadata": {},
     "output_type": "display_data"
    },
    {
     "name": "stdout",
     "output_type": "stream",
     "text": [
      "unsupported pickle protocol: 10\n",
      "[WARNING]: ./data/libriphone/feat/train/481-123719-0012.pt.pt failed to be loaded.\n",
      "'utf-8' codec can't decode byte 0x81 in position 36: invalid start byte\n",
      "[WARNING]: ./data/libriphone/feat/train/1183-128659-0014.pt.pt failed to be loaded.\n"
     ]
    }
   ],
   "source": [
    "train_X, train_y = get_fixed_frame_data(nframes, feat_dir=\"./data/libriphone/feat/train\",\n",
    "                                        split_filepath=\"./data/libriphone/train_split.txt\",\n",
    "                                        labels_filepath=\"./data/libriphone/train_labels.txt\")\n",
    "train_dataset = FixedFramesDataset(train_X, train_y)\n",
    "del train_X, train_y\n",
    "gc.collect()\n",
    "\n",
    "train_len = int(len(train_dataset) * 0.8)\n",
    "valid_len = len(train_dataset) - train_len\n",
    "train_dataset, valid_dataset = random_split(train_dataset, [train_len, valid_len])\n",
    "\n",
    "train_dataloader = DataLoader(train_dataset, batch_size=batch_size, shuffle=True, num_workers=4, pin_memory=True)\n",
    "valid_dataloader = DataLoader(valid_dataset, batch_size=batch_size, shuffle=False, num_workers=4, pin_memory=True)\n"
   ],
   "metadata": {
    "collapsed": false
   }
  },
  {
   "cell_type": "markdown",
   "source": [
    "## Define Model"
   ],
   "metadata": {
    "collapsed": false
   }
  },
  {
   "cell_type": "code",
   "execution_count": 4,
   "outputs": [],
   "source": [
    "class MLPClassifier(nn.Module):\n",
    "    def __init__(self, input_dim: int, num_classes: int = 41) -> None:\n",
    "        super(MLPClassifier, self).__init__()\n",
    "        self.fc = nn.Sequential(\n",
    "            nn.Flatten(),\n",
    "            nn.Linear(input_dim, num_classes)\n",
    "        )\n",
    "\n",
    "    def forward(self, X: Tensor) -> Tensor:\n",
    "        return self.fc(X)\n"
   ],
   "metadata": {
    "collapsed": false
   }
  },
  {
   "cell_type": "code",
   "execution_count": 5,
   "outputs": [],
   "source": [
    "model = MLPClassifier(input_dim=5 * 39, num_classes=41).to(device)\n",
    "criterion = nn.CrossEntropyLoss()\n",
    "optimizer = torch.optim.Adam(model.parameters())"
   ],
   "metadata": {
    "collapsed": false
   }
  },
  {
   "cell_type": "code",
   "execution_count": 6,
   "outputs": [
    {
     "name": "stderr",
     "output_type": "stream",
     "text": [
      "2022-11-30 09:28:35.081345: I tensorflow/core/platform/cpu_feature_guard.cc:193] This TensorFlow binary is optimized with oneAPI Deep Neural Network Library (oneDNN) to use the following CPU instructions in performance-critical operations:  AVX2 FMA\n",
      "To enable them in other operations, rebuild TensorFlow with the appropriate compiler flags.\n"
     ]
    },
    {
     "data": {
      "text/plain": "  0%|          | 0/200 [00:00<?, ?it/s]",
      "application/vnd.jupyter.widget-view+json": {
       "version_major": 2,
       "version_minor": 0,
       "model_id": "83360b10997f4e1cb7dfb05368ee8931"
      }
     },
     "metadata": {},
     "output_type": "display_data"
    },
    {
     "name": "stdout",
     "output_type": "stream",
     "text": [
      "Saving model with acc 0.180\n",
      "Saving model with acc 0.288\n",
      "Saving model with acc 0.331\n",
      "Saving model with acc 0.354\n",
      "Saving model with acc 0.368\n",
      "Saving model with acc 0.377\n",
      "Saving model with acc 0.385\n",
      "Saving model with acc 0.391\n",
      "Saving model with acc 0.398\n",
      "Saving model with acc 0.403\n",
      "Saving model with acc 0.407\n",
      "Saving model with acc 0.411\n",
      "Saving model with acc 0.413\n",
      "Saving model with acc 0.416\n",
      "Saving model with acc 0.417\n",
      "Saving model with acc 0.419\n",
      "Saving model with acc 0.420\n",
      "Saving model with acc 0.423\n",
      "Saving model with acc 0.425\n",
      "Saving model with acc 0.426\n"
     ]
    }
   ],
   "source": [
    "train(train_dataloader, valid_dataloader, model, criterion, optimizer, 200, 10, trial_name)"
   ],
   "metadata": {
    "collapsed": false
   }
  },
  {
   "cell_type": "markdown",
   "source": [
    "## Prediction"
   ],
   "metadata": {
    "collapsed": false
   }
  },
  {
   "cell_type": "code",
   "execution_count": 12,
   "outputs": [
    {
     "data": {
      "text/plain": "  0%|          | 0/1078 [00:00<?, ?it/s]",
      "application/vnd.jupyter.widget-view+json": {
       "version_major": 2,
       "version_minor": 0,
       "model_id": "c7fde02ab6824ffd9cab7dd63d18c0a4"
      }
     },
     "metadata": {},
     "output_type": "display_data"
    },
    {
     "data": {
      "text/plain": "  0%|          | 0/1263 [00:00<?, ?it/s]",
      "application/vnd.jupyter.widget-view+json": {
       "version_major": 2,
       "version_minor": 0,
       "model_id": "770dac9e019c4bd4ae8d6a50095e49f2"
      }
     },
     "metadata": {},
     "output_type": "display_data"
    }
   ],
   "source": [
    "test_X = get_fixed_frame_data(nframes, feat_dir=\"./data/libriphone/feat/test\",\n",
    "                                        split_filepath=\"./data/libriphone/test_split.txt\")\n",
    "test_dataset = FixedFramesDataset(test_X)\n",
    "del test_X\n",
    "gc.collect()\n",
    "\n",
    "test_dataloader = DataLoader(test_dataset, batch_size=batch_size, shuffle=False, num_workers=4, pin_memory=True)\n",
    "\n",
    "from trainutils import prediction\n",
    "\n",
    "model.load_state_dict(torch.load(f\"././models/{trial_name}.ckpt\"))\n",
    "prediction(test_dataloader, model)\n"
   ],
   "metadata": {
    "collapsed": false
   }
  },
  {
   "cell_type": "code",
   "execution_count": null,
   "outputs": [],
   "source": [],
   "metadata": {
    "collapsed": false
   }
  }
 ],
 "metadata": {
  "kernelspec": {
   "display_name": "Python 3",
   "language": "python",
   "name": "python3"
  },
  "language_info": {
   "codemirror_mode": {
    "name": "ipython",
    "version": 2
   },
   "file_extension": ".py",
   "mimetype": "text/x-python",
   "name": "python",
   "nbconvert_exporter": "python",
   "pygments_lexer": "ipython2",
   "version": "2.7.6"
  }
 },
 "nbformat": 4,
 "nbformat_minor": 0
}
