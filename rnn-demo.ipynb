{
 "cells": [
  {
   "cell_type": "markdown",
   "metadata": {},
   "source": [
    "# RNN"
   ]
  },
  {
   "cell_type": "code",
   "execution_count": null,
   "metadata": {},
   "outputs": [],
   "source": [
    "import os\n",
    "os.environ[\"CUDA_VISIBLE_DEVICES\"] = \"7\""
   ]
  },
  {
   "cell_type": "code",
   "execution_count": null,
   "metadata": {},
   "outputs": [],
   "source": [
    "import pickle\n",
    "from typing import List, Tuple, Union\n",
    "\n",
    "import torch\n",
    "from torch import nn, Tensor\n",
    "from torch.nn.utils.rnn import PackedSequence, pack_sequence\n",
    "from torch.utils.data import DataLoader, random_split\n",
    "\n",
    "from datautils import SeqDataset\n",
    "from model_house import LSTM, GRU\n",
    "from trainutils import device, train, prediction"
   ]
  },
  {
   "cell_type": "markdown",
   "metadata": {},
   "source": [
    "## Hyer-parameters"
   ]
  },
  {
   "cell_type": "code",
   "execution_count": null,
   "metadata": {},
   "outputs": [],
   "source": [
    "batch_size = 16\n",
    "learning_rate = 1e-4\n",
    "trial_name = \"rnn-demo\"\n"
   ]
  },
  {
   "cell_type": "markdown",
   "metadata": {},
   "source": [
    "## Define Dataset"
   ]
  },
  {
   "cell_type": "code",
   "execution_count": null,
   "metadata": {},
   "outputs": [],
   "source": [
    "with open(\"./scaler.skl\", \"rb\") as fp:\n",
    "    scaler = pickle.load(fp)\n",
    "\n",
    "train_dataset = SeqDataset(\n",
    "    feat_dir=\"./data/libriphone/feat/train\",\n",
    "    split_filepath=\"./data/libriphone/train_split.txt\",\n",
    "    labels_filepath=\"./data/libriphone/train_labels.txt\",\n",
    "    scaler=scaler,\n",
    ")\n",
    "test_dataset = SeqDataset(\n",
    "    feat_dir=\"./data/libriphone/feat/test\", split_filepath=\"./data/libriphone/test_split.txt\", scaler=scaler\n",
    ")\n",
    "\n",
    "train_len = int(len(train_dataset) * 0.8)\n",
    "valid_len = len(train_dataset) - train_len\n",
    "train_dataset, valid_dataset = random_split(train_dataset, [train_len, valid_len])\n"
   ]
  },
  {
   "cell_type": "code",
   "execution_count": null,
   "metadata": {},
   "outputs": [],
   "source": [
    "def collate(\n",
    "    batch: Union[List[Tuple[Tensor, Tensor]], List[Tensor]]\n",
    ") -> Union[List[Tuple[PackedSequence, Tensor]], List[PackedSequence]]:\n",
    "    if isinstance(batch[0], tuple):\n",
    "        features, labels = zip(*batch)\n",
    "        return pack_sequence(features, enforce_sorted=False), torch.cat(labels)\n",
    "    else:\n",
    "        return pack_sequence(batch, enforce_sorted=False)\n",
    "\n",
    "\n",
    "train_dataloader = DataLoader(\n",
    "    train_dataset, batch_size=batch_size, shuffle=True, num_workers=4, pin_memory=True, collate_fn=collate\n",
    ")\n",
    "valid_dataloader = DataLoader(\n",
    "    valid_dataset, batch_size=batch_size, shuffle=False, num_workers=4, pin_memory=True, collate_fn=collate\n",
    ")\n"
   ]
  },
  {
   "cell_type": "markdown",
   "metadata": {},
   "source": [
    "## Define Model"
   ]
  },
  {
   "cell_type": "code",
   "execution_count": null,
   "metadata": {},
   "outputs": [],
   "source": [
    "model = GRU(embed_size=39, hidden_size=256, num_layers=3, num_classes=41).to(device)\n",
    "criterion = nn.CrossEntropyLoss()\n",
    "optimizer = torch.optim.Adam(model.parameters(), lr=learning_rate)\n"
   ]
  },
  {
   "cell_type": "code",
   "execution_count": null,
   "metadata": {},
   "outputs": [],
   "source": [
    "train(train_dataloader, valid_dataloader, model, criterion, optimizer, 5000, 100, trial_name)"
   ]
  },
  {
   "cell_type": "markdown",
   "metadata": {},
   "source": [
    "## Prediction"
   ]
  },
  {
   "cell_type": "code",
   "execution_count": null,
   "metadata": {},
   "outputs": [],
   "source": [
    "test_dataloader = DataLoader(\n",
    "    test_dataset, batch_size=batch_size, shuffle=False, num_workers=4, collate_fn=collate, pin_memory=True\n",
    ")\n",
    "\n",
    "\n",
    "model.load_state_dict(torch.load(f\"./models/{trial_name}.ckpt\"))\n",
    "prediction(test_dataloader, model)\n"
   ]
  }
 ],
 "metadata": {
  "kernelspec": {
   "display_name": "Python 3.10.4 ('lab')",
   "language": "python",
   "name": "python3"
  },
  "language_info": {
   "codemirror_mode": {
    "name": "ipython",
    "version": 3
   },
   "file_extension": ".py",
   "mimetype": "text/x-python",
   "name": "python",
   "nbconvert_exporter": "python",
   "pygments_lexer": "ipython3",
   "version": "3.10.4"
  },
  "orig_nbformat": 4,
  "vscode": {
   "interpreter": {
    "hash": "911c2b171b7b5c54bdbcf49ed41878ff6d08983a167793ca2ae81c7a319ea04e"
   }
  }
 },
 "nbformat": 4,
 "nbformat_minor": 2
}
